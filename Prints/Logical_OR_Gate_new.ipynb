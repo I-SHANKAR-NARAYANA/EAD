{
  "cells": [
    {
      "cell_type": "code",
      "execution_count": null,
      "id": "9b34574d-0bd3-4d39-bd4b-fd41d0f070de",
      "metadata": {
        "id": "9b34574d-0bd3-4d39-bd4b-fd41d0f070de"
      },
      "outputs": [],
      "source": [
        "import numpy as np\n",
        "# Define the dataset for the OR problem\n",
        "# Inputs: X = [x1, x2]\n",
        "# Outputs: y = [0, 1, 1, 1]\n",
        "\n",
        "X=np.array([[0, 0],[0, 1],[1, 0],[1, 1]])\n",
        "\n",
        "y=np.array([0, 1, 1, 1])"
      ]
    },
    {
      "cell_type": "code",
      "execution_count": null,
      "id": "786f348e-1a47-4ef6-a45d-7fa0fc90ee96",
      "metadata": {
        "id": "786f348e-1a47-4ef6-a45d-7fa0fc90ee96"
      },
      "outputs": [],
      "source": [
        "import tensorflow as tf\n",
        "from tensorflow.keras.models import Sequential\n",
        "from tensorflow.keras.layers import Dense"
      ]
    },
    {
      "cell_type": "code",
      "execution_count": null,
      "id": "a600e26f-49ba-4b95-b16b-a2129c469762",
      "metadata": {
        "id": "a600e26f-49ba-4b95-b16b-a2129c469762"
      },
      "outputs": [],
      "source": [
        "model = Sequential()\n",
        "\n",
        "# Input layer (2 neurons for the 2 inputs) -> Hidden layer with 2 neurons -> Output layer\n",
        "# Hidden layer with ReLU activation\n",
        "model.add( Dense(units=1,input_dim=2,activation='sigmoid') )"
      ]
    },
    {
      "cell_type": "code",
      "execution_count": null,
      "id": "ec06f6d0-6103-40b2-9500-55d08401aa02",
      "metadata": {
        "id": "ec06f6d0-6103-40b2-9500-55d08401aa02"
      },
      "outputs": [],
      "source": [
        "# Compile the model\n",
        "model.compile(optimizer='adam',loss='binary_crossentropy',metrics=['accuracy'])"
      ]
    },
    {
      "cell_type": "code",
      "execution_count": null,
      "id": "bf4c8b82-e0a0-4dc7-af07-1e7681818a8e",
      "metadata": {
        "id": "bf4c8b82-e0a0-4dc7-af07-1e7681818a8e",
        "outputId": "702570d0-67ae-415c-9cd2-add5e4e3f5cc"
      },
      "outputs": [
        {
          "data": {
            "text/plain": [
              "<keras.src.callbacks.history.History at 0x1c6f781fcd0>"
            ]
          },
          "execution_count": 17,
          "metadata": {},
          "output_type": "execute_result"
        }
      ],
      "source": [
        "# Train the model\n",
        "model.fit(X,y,epochs=1000,verbose=0)"
      ]
    },
    {
      "cell_type": "code",
      "execution_count": null,
      "id": "ed2102c1-352d-4ad6-98f9-dca7887b4ccf",
      "metadata": {
        "id": "ed2102c1-352d-4ad6-98f9-dca7887b4ccf",
        "outputId": "c6e4abb7-051a-412c-e352-dd8a33c65dec"
      },
      "outputs": [
        {
          "name": "stdout",
          "output_type": "stream",
          "text": [
            "\u001b[1m1/1\u001b[0m \u001b[32m━━━━━━━━━━━━━━━━━━━━\u001b[0m\u001b[37m\u001b[0m \u001b[1m0s\u001b[0m 268ms/step - accuracy: 0.7500 - loss: 0.4608\n",
            "Model accuracy:75.00%\n"
          ]
        }
      ],
      "source": [
        "# Evaluate the model\n",
        "loss,accuracy=model.evaluate(X,y)\n",
        "print(f\"Model accuracy:{accuracy*100:.2f}%\")"
      ]
    },
    {
      "cell_type": "code",
      "execution_count": null,
      "id": "6fe95b25-ee7a-42af-ab29-597cf9224f69",
      "metadata": {
        "id": "6fe95b25-ee7a-42af-ab29-597cf9224f69",
        "outputId": "d1210d3a-5667-44e4-86c3-094f1c240ad3"
      },
      "outputs": [
        {
          "name": "stdout",
          "output_type": "stream",
          "text": [
            "\u001b[1m1/1\u001b[0m \u001b[32m━━━━━━━━━━━━━━━━━━━━\u001b[0m\u001b[37m\u001b[0m \u001b[1m0s\u001b[0m 66ms/step\n",
            "Predictions:\n",
            "[[1]\n",
            " [1]\n",
            " [1]\n",
            " [1]]\n"
          ]
        }
      ],
      "source": [
        "# Make predictions\n",
        "predictions=model.predict(X)\n",
        "\n",
        "# Convert output probabilities to 0 or 1\n",
        "predictions=(predictions>0.5).astype(int)\n",
        "print(\"Predictions:\")\n",
        "print(predictions)"
      ]
    },
    {
      "cell_type": "code",
      "execution_count": null,
      "id": "8f469a2e-2386-419d-b4fe-34fe7a2b5fa3",
      "metadata": {
        "id": "8f469a2e-2386-419d-b4fe-34fe7a2b5fa3"
      },
      "outputs": [],
      "source": []
    }
  ],
  "metadata": {
    "kernelspec": {
      "display_name": "Python 3 (ipykernel)",
      "language": "python",
      "name": "python3"
    },
    "language_info": {
      "codemirror_mode": {
        "name": "ipython",
        "version": 3
      },
      "file_extension": ".py",
      "mimetype": "text/x-python",
      "name": "python",
      "nbconvert_exporter": "python",
      "pygments_lexer": "ipython3",
      "version": "3.11.7"
    },
    "colab": {
      "provenance": []
    }
  },
  "nbformat": 4,
  "nbformat_minor": 5
}